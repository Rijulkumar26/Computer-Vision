{
 "cells": [
  {
   "cell_type": "code",
   "execution_count": 15,
   "id": "b83bff86",
   "metadata": {},
   "outputs": [
    {
     "name": "stdout",
     "output_type": "stream",
     "text": [
      "Once deleted, variables cannot be recovered. Proceed (y/[n])? y\n"
     ]
    }
   ],
   "source": [
    "%reset"
   ]
  },
  {
   "cell_type": "code",
   "execution_count": 18,
   "id": "3a73ace8",
   "metadata": {},
   "outputs": [],
   "source": [
    "import numpy as np\n",
    "import pandas as pd\n",
    "import seaborn as sns\n",
    "import matplotlib.pyplot as plt\n",
    "import matplotlib as mat\n",
    "import tensorflow as tf\n",
    "import cv2, os\n",
    "\n",
    "import warnings\n",
    "warnings.filterwarnings('ignore')"
   ]
  },
  {
   "cell_type": "code",
   "execution_count": 19,
   "id": "d682bf8b",
   "metadata": {},
   "outputs": [],
   "source": [
    "# Function to preprocess the image\n",
    "def preprocess_image(image):\n",
    "    # Convert to grayscale\n",
    "    gray = cv2.cvtColor(image, cv2.COLOR_BGR2GRAY)\n",
    "    \n",
    "    # Apply any necessary preprocessing steps such as denoising or contrast enhancement\n",
    "    \n",
    "    return gray"
   ]
  },
  {
   "cell_type": "code",
   "execution_count": 20,
   "id": "8e45529e",
   "metadata": {},
   "outputs": [],
   "source": [
    "# Function to segment the filled volume\n",
    "def segment_image(image):\n",
    "    # Apply image segmentation techniques to separate the filled volume from the background or other objects\n",
    "    # You can use thresholding, edge detection, or more advanced methods like watershed segmentation or deep learning-based techniques\n",
    "    \n",
    "    # Here, we will use a simple thresholding approach as an example\n",
    "    _, threshold = cv2.threshold(image, 127, 255, cv2.THRESH_BINARY)\n",
    "    \n",
    "    return threshold"
   ]
  },
  {
   "cell_type": "code",
   "execution_count": 21,
   "id": "0a58b6f3",
   "metadata": {},
   "outputs": [],
   "source": [
    "# Function to calculate the percentage of filled volume\n",
    "def calculate_filled_volume_percentage(image):\n",
    "    # Calculate the percentage of white pixels (filled volume) in the segmented image\n",
    "    total_pixels = image.size\n",
    "    white_pixels = np.count_nonzero(image)\n",
    "    percentage = (white_pixels / total_pixels) * 100\n",
    "    \n",
    "    return percentage"
   ]
  },
  {
   "cell_type": "code",
   "execution_count": 22,
   "id": "fd2e810e",
   "metadata": {},
   "outputs": [],
   "source": [
    "# Function to calculate the average percentage of filled volume\n",
    "def calculate_average_filled_volume_percentage(images):\n",
    "    total_percentage = 0\n",
    "    \n",
    "    for image in images:\n",
    "        # Preprocess the image\n",
    "        processed_image = preprocess_image(image)\n",
    "        \n",
    "        # Segment the filled volume\n",
    "        segmented_image = segment_image(processed_image)\n",
    "        \n",
    "        # Calculate the percentage of filled volume\n",
    "        filled_volume_percentage = calculate_filled_volume_percentage(segmented_image)\n",
    "        \n",
    "        # Accumulate the percentage\n",
    "        total_percentage += filled_volume_percentage\n",
    "    \n",
    "    # Average the percentage across all images\n",
    "    average_percentage = total_percentage / len(images)\n",
    "    \n",
    "    return average_percentage"
   ]
  },
  {
   "cell_type": "code",
   "execution_count": 25,
   "id": "08070181",
   "metadata": {},
   "outputs": [
    {
     "name": "stdout",
     "output_type": "stream",
     "text": [
      "Average Filled Volume Percentage = 51.21%\n"
     ]
    }
   ],
   "source": [
    "# Load the images\n",
    "image_files = ['image1.jpeg', 'image2.jpeg', 'image3.jpeg', 'image4.jpeg', 'image5.jpeg']\n",
    "images = []\n",
    "\n",
    "for file in image_files:\n",
    "    image = cv2.imread(os.path.join('/home/rijul/Desktop/Projects new/volume/',file))\n",
    "    images.append(image)\n",
    "\n",
    "# Calculate the average percentage of filled volume\n",
    "average_filled_volume_percentage = calculate_average_filled_volume_percentage(images)\n",
    "\n",
    "# Print the result\n",
    "print(f\"Average Filled Volume Percentage = {average_filled_volume_percentage:.2f}%\")\n"
   ]
  },
  {
   "cell_type": "code",
   "execution_count": null,
   "id": "929f2245",
   "metadata": {},
   "outputs": [],
   "source": []
  }
 ],
 "metadata": {
  "kernelspec": {
   "display_name": "Python 3 (ipykernel)",
   "language": "python",
   "name": "python3"
  },
  "language_info": {
   "codemirror_mode": {
    "name": "ipython",
    "version": 3
   },
   "file_extension": ".py",
   "mimetype": "text/x-python",
   "name": "python",
   "nbconvert_exporter": "python",
   "pygments_lexer": "ipython3",
   "version": "3.10.9"
  }
 },
 "nbformat": 4,
 "nbformat_minor": 5
}
